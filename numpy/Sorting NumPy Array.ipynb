{
 "cells": [
  {
   "cell_type": "markdown",
   "id": "146db947",
   "metadata": {},
   "source": [
    "# Sorting NumPy Array"
   ]
  },
  {
   "cell_type": "markdown",
   "id": "00c43622",
   "metadata": {},
   "source": [
    "# Import Module"
   ]
  },
  {
   "cell_type": "code",
   "execution_count": 42,
   "id": "ed9dc191",
   "metadata": {},
   "outputs": [],
   "source": [
    "import numpy as np"
   ]
  },
  {
   "cell_type": "code",
   "execution_count": 43,
   "id": "67ddcc6b",
   "metadata": {},
   "outputs": [
    {
     "data": {
      "text/plain": [
       "array([[ -8.,   4., -23.,  10., -14.,  18.]])"
      ]
     },
     "execution_count": 43,
     "metadata": {},
     "output_type": "execute_result"
    }
   ],
   "source": [
    "a = np.floor(np.random.randn(1,6)*10)\n",
    "a"
   ]
  },
  {
   "cell_type": "code",
   "execution_count": 44,
   "id": "a05fd3b0",
   "metadata": {},
   "outputs": [
    {
     "name": "stdout",
     "output_type": "stream",
     "text": [
      "Nilai Max Dari a = 18.0\n"
     ]
    }
   ],
   "source": [
    "print(\"Nilai Max Dari a = {}\".format(a.max()))"
   ]
  },
  {
   "cell_type": "code",
   "execution_count": 45,
   "id": "9500f64f",
   "metadata": {},
   "outputs": [
    {
     "name": "stdout",
     "output_type": "stream",
     "text": [
      "Posisi Nilai Max Dari a = 5\n"
     ]
    }
   ],
   "source": [
    "print(\"Posisi Nilai Max Dari a = {}\".format(a.argmax()))"
   ]
  },
  {
   "cell_type": "code",
   "execution_count": 46,
   "id": "52a32ab5",
   "metadata": {},
   "outputs": [
    {
     "name": "stdout",
     "output_type": "stream",
     "text": [
      "Nilai Min Dari a = -23.0\n"
     ]
    }
   ],
   "source": [
    "print(f\"Nilai Min Dari a = {a.min()}\")"
   ]
  },
  {
   "cell_type": "code",
   "execution_count": 49,
   "id": "80f2281e",
   "metadata": {},
   "outputs": [
    {
     "name": "stdout",
     "output_type": "stream",
     "text": [
      "Posisi Nilai Min Dari a = 2\n"
     ]
    }
   ],
   "source": [
    "print(f\"Posisi Nilai Min Dari a = {a.argmin()}\")"
   ]
  },
  {
   "cell_type": "markdown",
   "id": "0595da6f",
   "metadata": {},
   "source": [
    "# Mengurutkan Nilai"
   ]
  },
  {
   "cell_type": "code",
   "execution_count": 68,
   "id": "512b9715",
   "metadata": {},
   "outputs": [
    {
     "data": {
      "text/plain": [
       "array([[3., 1.],\n",
       "       [7., 4.]])"
      ]
     },
     "execution_count": 68,
     "metadata": {},
     "output_type": "execute_result"
    }
   ],
   "source": [
    "b = np.floor(np.random.rand(2,2)*10)\n",
    "b"
   ]
  },
  {
   "cell_type": "code",
   "execution_count": 69,
   "id": "d529fe1b",
   "metadata": {},
   "outputs": [
    {
     "data": {
      "text/plain": [
       "array([[1., 3.],\n",
       "       [4., 7.]])"
      ]
     },
     "execution_count": 69,
     "metadata": {},
     "output_type": "execute_result"
    }
   ],
   "source": [
    "np.sort(b)"
   ]
  },
  {
   "cell_type": "code",
   "execution_count": 70,
   "id": "c0490f16",
   "metadata": {},
   "outputs": [
    {
     "data": {
      "text/plain": [
       "array([[1, 0],\n",
       "       [1, 0]], dtype=int64)"
      ]
     },
     "execution_count": 70,
     "metadata": {},
     "output_type": "execute_result"
    }
   ],
   "source": [
    "np.argsort(b)"
   ]
  }
 ],
 "metadata": {
  "kernelspec": {
   "display_name": "Python 3 (ipykernel)",
   "language": "python",
   "name": "python3"
  },
  "language_info": {
   "codemirror_mode": {
    "name": "ipython",
    "version": 3
   },
   "file_extension": ".py",
   "mimetype": "text/x-python",
   "name": "python",
   "nbconvert_exporter": "python",
   "pygments_lexer": "ipython3",
   "version": "3.10.9"
  }
 },
 "nbformat": 4,
 "nbformat_minor": 5
}
