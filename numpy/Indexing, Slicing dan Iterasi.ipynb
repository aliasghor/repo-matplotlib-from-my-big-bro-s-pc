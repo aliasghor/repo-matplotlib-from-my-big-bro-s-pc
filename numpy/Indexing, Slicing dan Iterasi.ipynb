{
 "cells": [
  {
   "cell_type": "markdown",
   "id": "c67f5232",
   "metadata": {},
   "source": [
    "# Indexing, Slicing dan Iterasi"
   ]
  },
  {
   "cell_type": "code",
   "execution_count": 4,
   "id": "109c1c69",
   "metadata": {},
   "outputs": [],
   "source": [
    "import numpy as np"
   ]
  },
  {
   "cell_type": "code",
   "execution_count": 5,
   "id": "12f5f5bd-3c02-4600-8765-aed22b849bc0",
   "metadata": {},
   "outputs": [
    {
     "data": {
      "text/plain": [
       "array([ 0,  1,  4,  9, 16, 25, 36, 49, 64, 81])"
      ]
     },
     "execution_count": 5,
     "metadata": {},
     "output_type": "execute_result"
    }
   ],
   "source": [
    "a = np.arange(10)**2\n",
    "a"
   ]
  },
  {
   "cell_type": "markdown",
   "id": "4e497ba4",
   "metadata": {},
   "source": [
    "# mengambil Nilai"
   ]
  },
  {
   "cell_type": "code",
   "execution_count": 7,
   "id": "2a77ce51",
   "metadata": {},
   "outputs": [
    {
     "name": "stdout",
     "output_type": "stream",
     "text": [
      "Mengambil Element Pertama: 0\n"
     ]
    }
   ],
   "source": [
    "print(\"Mengambil Element Pertama: {}\".format(a[0]))"
   ]
  },
  {
   "cell_type": "code",
   "execution_count": 8,
   "id": "1491e31f",
   "metadata": {},
   "outputs": [
    {
     "name": "stdout",
     "output_type": "stream",
     "text": [
      "Mengambil Element Terakhir 81\n"
     ]
    }
   ],
   "source": [
    "print(f\"Mengambil Element Terakhir {a[-1]}\")"
   ]
  },
  {
   "cell_type": "markdown",
   "id": "4d0ec904",
   "metadata": {},
   "source": [
    "# Slicing"
   ]
  },
  {
   "cell_type": "code",
   "execution_count": 12,
   "id": "b7253a68",
   "metadata": {},
   "outputs": [
    {
     "name": "stdout",
     "output_type": "stream",
     "text": [
      "Element Dari 1-6 = [ 0  1  4  9 16 25]\n"
     ]
    }
   ],
   "source": [
    "print(f\"Element Dari 1-6 = {a[0:6]}\")"
   ]
  },
  {
   "cell_type": "code",
   "execution_count": 14,
   "id": "41aa32a6",
   "metadata": {},
   "outputs": [
    {
     "name": "stdout",
     "output_type": "stream",
     "text": [
      "Element ke 4 Sampai Akhir [ 9 16 25 36 49 64 81]\n"
     ]
    }
   ],
   "source": [
    "print(f\"Element ke 4 Sampai Akhir {a[3:]}\")"
   ]
  },
  {
   "cell_type": "code",
   "execution_count": 19,
   "id": "9c0a1927",
   "metadata": {},
   "outputs": [
    {
     "name": "stdout",
     "output_type": "stream",
     "text": [
      "Element Dari Awal Sampe 5 = [ 0  1  4  9 16]\n"
     ]
    }
   ],
   "source": [
    "print(f\"Element Dari Awal Sampe 5 = {a[:5]}\")"
   ]
  },
  {
   "cell_type": "code",
   "execution_count": 20,
   "id": "f1dd6ece",
   "metadata": {},
   "outputs": [
    {
     "name": "stdout",
     "output_type": "stream",
     "text": [
      "Membalik Urutan List = [81 64 49 36 25 16  9  4  1  0]\n"
     ]
    }
   ],
   "source": [
    "print(\"Membalik Urutan List = {}\".format(a[::-1]))"
   ]
  }
 ],
 "metadata": {
  "kernelspec": {
   "display_name": "Python 3 (ipykernel)",
   "language": "python",
   "name": "python3"
  },
  "language_info": {
   "codemirror_mode": {
    "name": "ipython",
    "version": 3
   },
   "file_extension": ".py",
   "mimetype": "text/x-python",
   "name": "python",
   "nbconvert_exporter": "python",
   "pygments_lexer": "ipython3",
   "version": "3.10.9"
  }
 },
 "nbformat": 4,
 "nbformat_minor": 5
}
