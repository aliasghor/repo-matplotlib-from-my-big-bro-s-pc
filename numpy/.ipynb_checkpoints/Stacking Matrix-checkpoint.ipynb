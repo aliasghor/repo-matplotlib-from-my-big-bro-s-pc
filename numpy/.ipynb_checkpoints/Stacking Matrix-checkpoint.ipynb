{
 "cells": [
  {
   "cell_type": "markdown",
   "id": "3252d62f",
   "metadata": {},
   "source": [
    "# Stacking Matrix"
   ]
  },
  {
   "cell_type": "markdown",
   "id": "7955077a",
   "metadata": {},
   "source": [
    "# Import Module"
   ]
  },
  {
   "cell_type": "code",
   "execution_count": 1,
   "id": "e568dfe1",
   "metadata": {},
   "outputs": [],
   "source": [
    "import numpy as np"
   ]
  },
  {
   "cell_type": "code",
   "execution_count": 4,
   "id": "b8e20847",
   "metadata": {},
   "outputs": [],
   "source": [
    "a = np.array([1,2,3])\n",
    "b = np.array([4,5,6])"
   ]
  },
  {
   "cell_type": "markdown",
   "id": "c4d72c67",
   "metadata": {},
   "source": [
    "# Stacking Horizontal Matrix"
   ]
  },
  {
   "cell_type": "code",
   "execution_count": 3,
   "id": "c0988e88",
   "metadata": {},
   "outputs": [
    {
     "data": {
      "text/plain": [
       "array([1, 2, 3, 4, 5, 6])"
      ]
     },
     "execution_count": 3,
     "metadata": {},
     "output_type": "execute_result"
    }
   ],
   "source": [
    "c = np.hstack([a,b])\n",
    "c"
   ]
  },
  {
   "cell_type": "markdown",
   "id": "f9199316",
   "metadata": {},
   "source": [
    "# Stacking Vertickal Matrix"
   ]
  },
  {
   "cell_type": "code",
   "execution_count": 5,
   "id": "93b65099",
   "metadata": {},
   "outputs": [
    {
     "data": {
      "text/plain": [
       "array([[1, 2, 3],\n",
       "       [4, 5, 6]])"
      ]
     },
     "execution_count": 5,
     "metadata": {},
     "output_type": "execute_result"
    }
   ],
   "source": [
    "d = np.vstack([a,b])\n",
    "d"
   ]
  }
 ],
 "metadata": {
  "kernelspec": {
   "display_name": "Python 3 (ipykernel)",
   "language": "python",
   "name": "python3"
  },
  "language_info": {
   "codemirror_mode": {
    "name": "ipython",
    "version": 3
   },
   "file_extension": ".py",
   "mimetype": "text/x-python",
   "name": "python",
   "nbconvert_exporter": "python",
   "pygments_lexer": "ipython3",
   "version": "3.10.9"
  }
 },
 "nbformat": 4,
 "nbformat_minor": 5
}
