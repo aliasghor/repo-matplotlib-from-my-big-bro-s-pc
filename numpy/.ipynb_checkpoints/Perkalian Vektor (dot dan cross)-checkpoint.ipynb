{
 "cells": [
  {
   "cell_type": "markdown",
   "id": "a70e5ca4",
   "metadata": {},
   "source": [
    "# Perkalian Vektor (dot dan cross)"
   ]
  },
  {
   "cell_type": "markdown",
   "id": "2c9c4199",
   "metadata": {},
   "source": [
    "# Import Module"
   ]
  },
  {
   "cell_type": "code",
   "execution_count": 1,
   "id": "7deceac7",
   "metadata": {},
   "outputs": [],
   "source": [
    "import numpy as np"
   ]
  },
  {
   "cell_type": "markdown",
   "id": "1336970b",
   "metadata": {},
   "source": [
    "# Perkalian Dot"
   ]
  },
  {
   "cell_type": "code",
   "execution_count": 14,
   "id": "1d13c50c",
   "metadata": {},
   "outputs": [],
   "source": [
    "a1 = np.array([1,3])\n",
    "b1 = np.array([3,0])"
   ]
  },
  {
   "cell_type": "code",
   "execution_count": 15,
   "id": "9e585cfd",
   "metadata": {},
   "outputs": [
    {
     "data": {
      "text/plain": [
       "3"
      ]
     },
     "execution_count": 15,
     "metadata": {},
     "output_type": "execute_result"
    }
   ],
   "source": [
    "c1 = np.dot(a1,b1)\n",
    "c1"
   ]
  },
  {
   "cell_type": "markdown",
   "id": "dcb0affb",
   "metadata": {},
   "source": [
    "# Perkalian Cross"
   ]
  },
  {
   "cell_type": "code",
   "execution_count": 11,
   "id": "8eec7e94",
   "metadata": {},
   "outputs": [],
   "source": [
    "a2 = np.array([1,2,0])\n",
    "b2 = np.array([2,1,0])"
   ]
  },
  {
   "cell_type": "code",
   "execution_count": 12,
   "id": "7b6d1e4b",
   "metadata": {},
   "outputs": [
    {
     "data": {
      "text/plain": [
       "array([ 0,  0, -3])"
      ]
     },
     "execution_count": 12,
     "metadata": {},
     "output_type": "execute_result"
    }
   ],
   "source": [
    "c2 = np.cross(a2,b2)\n",
    "c2"
   ]
  },
  {
   "cell_type": "code",
   "execution_count": 13,
   "id": "ed9fb6c1",
   "metadata": {},
   "outputs": [
    {
     "data": {
      "text/plain": [
       "array([0, 0, 3])"
      ]
     },
     "execution_count": 13,
     "metadata": {},
     "output_type": "execute_result"
    }
   ],
   "source": [
    "c3 = np.cross(b2,a2)\n",
    "c3"
   ]
  }
 ],
 "metadata": {
  "kernelspec": {
   "display_name": "Python 3 (ipykernel)",
   "language": "python",
   "name": "python3"
  },
  "language_info": {
   "codemirror_mode": {
    "name": "ipython",
    "version": 3
   },
   "file_extension": ".py",
   "mimetype": "text/x-python",
   "name": "python",
   "nbconvert_exporter": "python",
   "pygments_lexer": "ipython3",
   "version": "3.10.9"
  }
 },
 "nbformat": 4,
 "nbformat_minor": 5
}
