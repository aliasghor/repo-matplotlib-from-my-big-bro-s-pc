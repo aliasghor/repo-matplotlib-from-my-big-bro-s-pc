{
 "cells": [
  {
   "cell_type": "markdown",
   "id": "faa76fee",
   "metadata": {},
   "source": [
    "# Manipulasi Matrix"
   ]
  },
  {
   "cell_type": "markdown",
   "id": "0f094806",
   "metadata": {},
   "source": [
    "# Import Module"
   ]
  },
  {
   "cell_type": "code",
   "execution_count": 2,
   "id": "85143e5f",
   "metadata": {},
   "outputs": [],
   "source": [
    "import numpy as np"
   ]
  },
  {
   "cell_type": "code",
   "execution_count": 3,
   "id": "441ff9cf",
   "metadata": {},
   "outputs": [
    {
     "data": {
      "text/plain": [
       "array([[1, 2, 3],\n",
       "       [4, 5, 6]])"
      ]
     },
     "execution_count": 3,
     "metadata": {},
     "output_type": "execute_result"
    }
   ],
   "source": [
    "a = np.array([[1,2,3],[4,5,6]])\n",
    "a"
   ]
  },
  {
   "cell_type": "code",
   "execution_count": 4,
   "id": "700fc43f",
   "metadata": {},
   "outputs": [
    {
     "data": {
      "text/plain": [
       "(2, 3)"
      ]
     },
     "execution_count": 4,
     "metadata": {},
     "output_type": "execute_result"
    }
   ],
   "source": [
    "a.shape"
   ]
  },
  {
   "cell_type": "markdown",
   "id": "c4eeae75",
   "metadata": {},
   "source": [
    "# Transpose Matrix"
   ]
  },
  {
   "cell_type": "code",
   "execution_count": 5,
   "id": "0b5495b5",
   "metadata": {},
   "outputs": [
    {
     "data": {
      "text/plain": [
       "array([[1, 4],\n",
       "       [2, 5],\n",
       "       [3, 6]])"
      ]
     },
     "execution_count": 5,
     "metadata": {},
     "output_type": "execute_result"
    }
   ],
   "source": [
    "a.transpose()"
   ]
  },
  {
   "cell_type": "code",
   "execution_count": 6,
   "id": "94cd1d91",
   "metadata": {},
   "outputs": [
    {
     "data": {
      "text/plain": [
       "array([[1, 4],\n",
       "       [2, 5],\n",
       "       [3, 6]])"
      ]
     },
     "execution_count": 6,
     "metadata": {},
     "output_type": "execute_result"
    }
   ],
   "source": [
    "np.transpose(a)"
   ]
  },
  {
   "cell_type": "code",
   "execution_count": 20,
   "id": "bd211226",
   "metadata": {},
   "outputs": [
    {
     "data": {
      "text/plain": [
       "array([[1, 4],\n",
       "       [2, 5],\n",
       "       [3, 6]])"
      ]
     },
     "execution_count": 20,
     "metadata": {},
     "output_type": "execute_result"
    }
   ],
   "source": [
    "a.T"
   ]
  },
  {
   "cell_type": "code",
   "execution_count": 21,
   "id": "62e0a0c9",
   "metadata": {},
   "outputs": [
    {
     "name": "stdout",
     "output_type": "stream",
     "text": [
      "Transpose Matrix a Dengan Ukuran: (2, 3)\n"
     ]
    }
   ],
   "source": [
    "print(\"Transpose Matrix a Dengan Ukuran:\",a.shape)"
   ]
  },
  {
   "cell_type": "markdown",
   "id": "4ce5c209",
   "metadata": {},
   "source": [
    "# Flatten Array, Vektor Baris"
   ]
  },
  {
   "cell_type": "code",
   "execution_count": 8,
   "id": "15fdaa94",
   "metadata": {},
   "outputs": [
    {
     "data": {
      "text/plain": [
       "array([1, 2, 3, 4, 5, 6])"
      ]
     },
     "execution_count": 8,
     "metadata": {},
     "output_type": "execute_result"
    }
   ],
   "source": [
    "a.ravel()"
   ]
  },
  {
   "cell_type": "code",
   "execution_count": 18,
   "id": "8ac2eacf",
   "metadata": {},
   "outputs": [
    {
     "data": {
      "text/plain": [
       "array([1, 2, 3, 4, 5, 6])"
      ]
     },
     "execution_count": 18,
     "metadata": {},
     "output_type": "execute_result"
    }
   ],
   "source": [
    "np.ravel(a)"
   ]
  },
  {
   "cell_type": "code",
   "execution_count": 19,
   "id": "dec07854",
   "metadata": {},
   "outputs": [
    {
     "name": "stdout",
     "output_type": "stream",
     "text": [
      "Flatten Array a Dengan Ukuran: (2, 3)\n"
     ]
    }
   ],
   "source": [
    "print(\"Flatten Array a Dengan Ukuran:\",a.shape)"
   ]
  },
  {
   "cell_type": "markdown",
   "id": "063bfa8c",
   "metadata": {},
   "source": [
    "# Reshape Matrix"
   ]
  },
  {
   "cell_type": "code",
   "execution_count": 14,
   "id": "9c4a6e2c",
   "metadata": {},
   "outputs": [
    {
     "data": {
      "text/plain": [
       "array([[1, 2],\n",
       "       [3, 4],\n",
       "       [5, 6]])"
      ]
     },
     "execution_count": 14,
     "metadata": {},
     "output_type": "execute_result"
    }
   ],
   "source": [
    "a.reshape(3,2)"
   ]
  },
  {
   "cell_type": "code",
   "execution_count": 17,
   "id": "bfe3cbb0",
   "metadata": {},
   "outputs": [
    {
     "name": "stdout",
     "output_type": "stream",
     "text": [
      "Reshape Matrix a Dengan Ukuran: (2, 3)\n"
     ]
    }
   ],
   "source": [
    "print(\"Reshape Matrix a Dengan Ukuran:\",a.shape)"
   ]
  },
  {
   "cell_type": "markdown",
   "id": "87224f6f",
   "metadata": {},
   "source": [
    "# Resize Matrix"
   ]
  },
  {
   "cell_type": "code",
   "execution_count": 22,
   "id": "7089a346",
   "metadata": {},
   "outputs": [
    {
     "data": {
      "text/plain": [
       "array([[1, 2],\n",
       "       [3, 4],\n",
       "       [5, 6]])"
      ]
     },
     "execution_count": 22,
     "metadata": {},
     "output_type": "execute_result"
    }
   ],
   "source": [
    "a.resize(3,2)\n",
    "a"
   ]
  },
  {
   "cell_type": "code",
   "execution_count": 23,
   "id": "0cb76f99",
   "metadata": {},
   "outputs": [
    {
     "name": "stdout",
     "output_type": "stream",
     "text": [
      "Resize Matrix a Dengan Ukuran: (3, 2)\n"
     ]
    }
   ],
   "source": [
    "print(\"Resize Matrix a Dengan Ukuran:\",a.shape)"
   ]
  }
 ],
 "metadata": {
  "kernelspec": {
   "display_name": "Python 3 (ipykernel)",
   "language": "python",
   "name": "python3"
  },
  "language_info": {
   "codemirror_mode": {
    "name": "ipython",
    "version": 3
   },
   "file_extension": ".py",
   "mimetype": "text/x-python",
   "name": "python",
   "nbconvert_exporter": "python",
   "pygments_lexer": "ipython3",
   "version": "3.10.9"
  }
 },
 "nbformat": 4,
 "nbformat_minor": 5
}
