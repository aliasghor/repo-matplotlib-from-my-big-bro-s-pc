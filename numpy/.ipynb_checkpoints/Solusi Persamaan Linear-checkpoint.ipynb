{
 "cells": [
  {
   "cell_type": "markdown",
   "id": "181e5529",
   "metadata": {},
   "source": [
    "# Solusi Persamaan Linear"
   ]
  },
  {
   "cell_type": "markdown",
   "id": "0e88b7b3",
   "metadata": {},
   "source": [
    "# Import Module"
   ]
  },
  {
   "cell_type": "code",
   "execution_count": 1,
   "id": "703a3e2c",
   "metadata": {},
   "outputs": [],
   "source": [
    "import numpy as np"
   ]
  },
  {
   "cell_type": "code",
   "execution_count": 3,
   "id": "4457c0dd",
   "metadata": {},
   "outputs": [],
   "source": [
    "A = np.array([[2,3],[1,2]])\n",
    "Y = np.array([23,14])"
   ]
  },
  {
   "cell_type": "code",
   "execution_count": 4,
   "id": "e2b4a658",
   "metadata": {},
   "outputs": [
    {
     "data": {
      "text/plain": [
       "array([[2, 3],\n",
       "       [1, 2]])"
      ]
     },
     "execution_count": 4,
     "metadata": {},
     "output_type": "execute_result"
    }
   ],
   "source": [
    "A"
   ]
  },
  {
   "cell_type": "code",
   "execution_count": 5,
   "id": "281fa0ef",
   "metadata": {},
   "outputs": [
    {
     "data": {
      "text/plain": [
       "array([23, 14])"
      ]
     },
     "execution_count": 5,
     "metadata": {},
     "output_type": "execute_result"
    }
   ],
   "source": [
    "Y"
   ]
  },
  {
   "cell_type": "code",
   "execution_count": 6,
   "id": "a3b2c286",
   "metadata": {},
   "outputs": [],
   "source": [
    "A_inv = np.linalg.inv(A)"
   ]
  },
  {
   "cell_type": "markdown",
   "id": "8a6e12a4",
   "metadata": {},
   "source": [
    "# Menyelesaikan Persamaan Linear"
   ]
  },
  {
   "cell_type": "code",
   "execution_count": 8,
   "id": "6bf49153",
   "metadata": {},
   "outputs": [
    {
     "data": {
      "text/plain": [
       "array([4., 5.])"
      ]
     },
     "execution_count": 8,
     "metadata": {},
     "output_type": "execute_result"
    }
   ],
   "source": [
    "X1 = np.dot(A_inv,Y)\n",
    "X1"
   ]
  },
  {
   "cell_type": "markdown",
   "id": "cfb2ffe5",
   "metadata": {},
   "source": [
    "# Cara Lain"
   ]
  },
  {
   "cell_type": "code",
   "execution_count": 9,
   "id": "3e64cbb4",
   "metadata": {},
   "outputs": [
    {
     "data": {
      "text/plain": [
       "array([4., 5.])"
      ]
     },
     "execution_count": 9,
     "metadata": {},
     "output_type": "execute_result"
    }
   ],
   "source": [
    "X2 = np.linalg.solve(A,Y)\n",
    "X2"
   ]
  }
 ],
 "metadata": {
  "kernelspec": {
   "display_name": "Python 3 (ipykernel)",
   "language": "python",
   "name": "python3"
  },
  "language_info": {
   "codemirror_mode": {
    "name": "ipython",
    "version": 3
   },
   "file_extension": ".py",
   "mimetype": "text/x-python",
   "name": "python",
   "nbconvert_exporter": "python",
   "pygments_lexer": "ipython3",
   "version": "3.10.9"
  }
 },
 "nbformat": 4,
 "nbformat_minor": 5
}
