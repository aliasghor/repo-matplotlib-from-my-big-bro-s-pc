{
 "cells": [
  {
   "cell_type": "markdown",
   "id": "4888be72",
   "metadata": {},
   "source": [
    "# Cara Advance Membuat Array"
   ]
  },
  {
   "cell_type": "markdown",
   "id": "12ad0cd1",
   "metadata": {},
   "source": [
    "# Import Module"
   ]
  },
  {
   "cell_type": "code",
   "execution_count": 2,
   "id": "3230f2ad",
   "metadata": {},
   "outputs": [],
   "source": [
    "import numpy as np"
   ]
  },
  {
   "cell_type": "code",
   "execution_count": 6,
   "id": "8de41d62",
   "metadata": {},
   "outputs": [
    {
     "data": {
      "text/plain": [
       "array([[ 1.,  2.,  3.,  4.,  5.],\n",
       "       [ 6.,  7.,  8.,  9., 10.]])"
      ]
     },
     "execution_count": 6,
     "metadata": {},
     "output_type": "execute_result"
    }
   ],
   "source": [
    "a = np.array([[1,2,3,4,5],[6,7,8,9,10]],dtype=float)\n",
    "a"
   ]
  },
  {
   "cell_type": "code",
   "execution_count": 7,
   "id": "2c384758",
   "metadata": {},
   "outputs": [
    {
     "data": {
      "text/plain": [
       "dtype('float64')"
      ]
     },
     "execution_count": 7,
     "metadata": {},
     "output_type": "execute_result"
    }
   ],
   "source": [
    "a.dtype"
   ]
  },
  {
   "cell_type": "markdown",
   "id": "45a38fd5",
   "metadata": {},
   "source": [
    "# Membuat Array Menggunakan Function"
   ]
  },
  {
   "cell_type": "code",
   "execution_count": 11,
   "id": "960291b6",
   "metadata": {},
   "outputs": [],
   "source": [
    "def kuadrat(baris,kolom):\n",
    "    return kolom**2"
   ]
  },
  {
   "cell_type": "code",
   "execution_count": 12,
   "id": "07cbfcb1",
   "metadata": {},
   "outputs": [],
   "source": [
    "def jumlah(baris,kolom):\n",
    "    return baris + kolom"
   ]
  },
  {
   "cell_type": "code",
   "execution_count": 10,
   "id": "0b26ea4f",
   "metadata": {},
   "outputs": [
    {
     "data": {
      "text/plain": [
       "array([[ 0.,  1.,  4.,  9., 16., 25., 36., 49., 64., 81.],\n",
       "       [ 0.,  1.,  4.,  9., 16., 25., 36., 49., 64., 81.]])"
      ]
     },
     "execution_count": 10,
     "metadata": {},
     "output_type": "execute_result"
    }
   ],
   "source": [
    "b = np.fromfunction(kuadrat,(2,10),dtype=float)\n",
    "b"
   ]
  },
  {
   "cell_type": "code",
   "execution_count": 13,
   "id": "1884e92a",
   "metadata": {},
   "outputs": [
    {
     "data": {
      "text/plain": [
       "array([[0, 1, 2, 3],\n",
       "       [1, 2, 3, 4],\n",
       "       [2, 3, 4, 5],\n",
       "       [3, 4, 5, 6],\n",
       "       [4, 5, 6, 7]])"
      ]
     },
     "execution_count": 13,
     "metadata": {},
     "output_type": "execute_result"
    }
   ],
   "source": [
    "c = np.fromfunction(jumlah,(5,4),dtype=int)\n",
    "c"
   ]
  },
  {
   "cell_type": "markdown",
   "id": "5a8219e4",
   "metadata": {},
   "source": [
    "# Membuat Array Ato Matrix Menggunakan Iterable"
   ]
  },
  {
   "cell_type": "code",
   "execution_count": 14,
   "id": "d22e45de",
   "metadata": {},
   "outputs": [],
   "source": [
    "iterable = [i*i for i in range(5)]"
   ]
  },
  {
   "cell_type": "code",
   "execution_count": 17,
   "id": "1de6db66",
   "metadata": {},
   "outputs": [
    {
     "data": {
      "text/plain": [
       "array([ 0.,  1.,  4.,  9., 16.])"
      ]
     },
     "execution_count": 17,
     "metadata": {},
     "output_type": "execute_result"
    }
   ],
   "source": [
    "d = np.fromiter(iterable,dtype=float)\n",
    "d"
   ]
  }
 ],
 "metadata": {
  "kernelspec": {
   "display_name": "Python 3 (ipykernel)",
   "language": "python",
   "name": "python3"
  },
  "language_info": {
   "codemirror_mode": {
    "name": "ipython",
    "version": 3
   },
   "file_extension": ".py",
   "mimetype": "text/x-python",
   "name": "python",
   "nbconvert_exporter": "python",
   "pygments_lexer": "ipython3",
   "version": "3.10.9"
  }
 },
 "nbformat": 4,
 "nbformat_minor": 5
}
