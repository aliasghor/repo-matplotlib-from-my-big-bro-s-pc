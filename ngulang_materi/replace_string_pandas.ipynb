{
 "cells": [
  {
   "cell_type": "code",
   "execution_count": 1,
   "metadata": {},
   "outputs": [
    {
     "name": "stdout",
     "output_type": "stream",
     "text": [
      "Given Dataframe is :\n",
      "             Name  Age\n",
      "0    John Larter   32\n",
      "1  Robert Junior   34\n",
      "2     Jonny Depp   36\n",
      "\n",
      " After adding two new columns : \n",
      "             Name  Age\n",
      "0    John_Larter   32\n",
      "1  Robert_Junior   34\n",
      "2     Jonny_Depp   36\n"
     ]
    }
   ],
   "source": [
    "# import Pandas as pd\n",
    "import pandas as pd\n",
    "   \n",
    "# create a new data frame\n",
    "df = pd.DataFrame({'Name': ['John Larter', 'Robert Junior', 'Jonny Depp'],\n",
    "                    'Age':[32, 34, 36]})\n",
    "   \n",
    "print(\"Given Dataframe is :\\n\",df)\n",
    "   \n",
    "# Adding two new columns to the existing dataframe.\n",
    "# splitting is done on the basis of underscore.\n",
    "df['Name'] = df['Name'].replace(' ', '_', regex=True)\n",
    "df['Name']\n",
    "   \n",
    "print(\"\\n After adding two new columns : \\n\",df)"
   ]
  }
 ],
 "metadata": {
  "kernelspec": {
   "display_name": "base",
   "language": "python",
   "name": "python3"
  },
  "language_info": {
   "codemirror_mode": {
    "name": "ipython",
    "version": 3
   },
   "file_extension": ".py",
   "mimetype": "text/x-python",
   "name": "python",
   "nbconvert_exporter": "python",
   "pygments_lexer": "ipython3",
   "version": "3.10.9"
  },
  "orig_nbformat": 4
 },
 "nbformat": 4,
 "nbformat_minor": 2
}
