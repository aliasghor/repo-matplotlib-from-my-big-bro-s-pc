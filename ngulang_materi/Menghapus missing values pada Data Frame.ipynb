{
 "cells": [
  {
   "cell_type": "markdown",
   "id": "c40944a8",
   "metadata": {},
   "source": [
    "# Menghapus missing values pada Data Frame"
   ]
  },
  {
   "cell_type": "markdown",
   "id": "4cf9de8e",
   "metadata": {},
   "source": [
    "# Import Modules"
   ]
  },
  {
   "cell_type": "code",
   "execution_count": 22,
   "id": "ae58e61d",
   "metadata": {},
   "outputs": [],
   "source": [
    "import pandas as pd\n",
    "import numpy as np"
   ]
  },
  {
   "cell_type": "markdown",
   "id": "91f5b2f5",
   "metadata": {},
   "source": [
    "# Buat Data Frame"
   ]
  },
  {
   "cell_type": "code",
   "execution_count": 23,
   "id": "0cd61e56",
   "metadata": {},
   "outputs": [
    {
     "data": {
      "text/html": [
       "<div>\n",
       "<style scoped>\n",
       "    .dataframe tbody tr th:only-of-type {\n",
       "        vertical-align: middle;\n",
       "    }\n",
       "\n",
       "    .dataframe tbody tr th {\n",
       "        vertical-align: top;\n",
       "    }\n",
       "\n",
       "    .dataframe thead th {\n",
       "        text-align: right;\n",
       "    }\n",
       "</style>\n",
       "<table border=\"1\" class=\"dataframe\">\n",
       "  <thead>\n",
       "    <tr style=\"text-align: right;\">\n",
       "      <th></th>\n",
       "      <th>index</th>\n",
       "      <th>A</th>\n",
       "      <th>B</th>\n",
       "      <th>C</th>\n",
       "      <th>D</th>\n",
       "    </tr>\n",
       "  </thead>\n",
       "  <tbody>\n",
       "    <tr>\n",
       "      <th>0</th>\n",
       "      <td>xxs3iia9of</td>\n",
       "      <td>0.004327</td>\n",
       "      <td>0.369993</td>\n",
       "      <td>0.207288</td>\n",
       "      <td>-1.438370</td>\n",
       "    </tr>\n",
       "    <tr>\n",
       "      <th>1</th>\n",
       "      <td>LxX2JjaGIJ</td>\n",
       "      <td>1.395118</td>\n",
       "      <td>1.683035</td>\n",
       "      <td>0.980699</td>\n",
       "      <td>-0.053247</td>\n",
       "    </tr>\n",
       "    <tr>\n",
       "      <th>2</th>\n",
       "      <td>MznWWww5wv</td>\n",
       "      <td>-0.169925</td>\n",
       "      <td>-0.087305</td>\n",
       "      <td>-0.906339</td>\n",
       "      <td>0.813347</td>\n",
       "    </tr>\n",
       "    <tr>\n",
       "      <th>3</th>\n",
       "      <td>VEKZJxHjiQ</td>\n",
       "      <td>-1.219738</td>\n",
       "      <td>0.256948</td>\n",
       "      <td>0.158104</td>\n",
       "      <td>-1.561943</td>\n",
       "    </tr>\n",
       "    <tr>\n",
       "      <th>4</th>\n",
       "      <td>nyMB77ngA9</td>\n",
       "      <td>0.566459</td>\n",
       "      <td>-0.230487</td>\n",
       "      <td>NaN</td>\n",
       "      <td>1.003619</td>\n",
       "    </tr>\n",
       "  </tbody>\n",
       "</table>\n",
       "</div>"
      ],
      "text/plain": [
       "        index         A         B         C         D\n",
       "0  xxs3iia9of  0.004327  0.369993  0.207288 -1.438370\n",
       "1  LxX2JjaGIJ  1.395118  1.683035  0.980699 -0.053247\n",
       "2  MznWWww5wv -0.169925 -0.087305 -0.906339  0.813347\n",
       "3  VEKZJxHjiQ -1.219738  0.256948  0.158104 -1.561943\n",
       "4  nyMB77ngA9  0.566459 -0.230487       NaN  1.003619"
      ]
     },
     "execution_count": 23,
     "metadata": {},
     "output_type": "execute_result"
    }
   ],
   "source": [
    "df = pd.util.testing.makeMissingDataframe().reset_index()\n",
    "df.head()"
   ]
  },
  {
   "cell_type": "code",
   "execution_count": 24,
   "id": "cdd492fa",
   "metadata": {},
   "outputs": [
    {
     "data": {
      "text/html": [
       "<div>\n",
       "<style scoped>\n",
       "    .dataframe tbody tr th:only-of-type {\n",
       "        vertical-align: middle;\n",
       "    }\n",
       "\n",
       "    .dataframe tbody tr th {\n",
       "        vertical-align: top;\n",
       "    }\n",
       "\n",
       "    .dataframe thead th {\n",
       "        text-align: right;\n",
       "    }\n",
       "</style>\n",
       "<table border=\"1\" class=\"dataframe\">\n",
       "  <thead>\n",
       "    <tr style=\"text-align: right;\">\n",
       "      <th></th>\n",
       "      <th>Z</th>\n",
       "      <th>A</th>\n",
       "      <th>B</th>\n",
       "      <th>C</th>\n",
       "      <th>D</th>\n",
       "    </tr>\n",
       "  </thead>\n",
       "  <tbody>\n",
       "    <tr>\n",
       "      <th>0</th>\n",
       "      <td>xxs3iia9of</td>\n",
       "      <td>0.004327</td>\n",
       "      <td>0.369993</td>\n",
       "      <td>0.207288</td>\n",
       "      <td>-1.438370</td>\n",
       "    </tr>\n",
       "    <tr>\n",
       "      <th>1</th>\n",
       "      <td>LxX2JjaGIJ</td>\n",
       "      <td>1.395118</td>\n",
       "      <td>1.683035</td>\n",
       "      <td>0.980699</td>\n",
       "      <td>-0.053247</td>\n",
       "    </tr>\n",
       "    <tr>\n",
       "      <th>2</th>\n",
       "      <td>MznWWww5wv</td>\n",
       "      <td>-0.169925</td>\n",
       "      <td>-0.087305</td>\n",
       "      <td>-0.906339</td>\n",
       "      <td>0.813347</td>\n",
       "    </tr>\n",
       "    <tr>\n",
       "      <th>3</th>\n",
       "      <td>VEKZJxHjiQ</td>\n",
       "      <td>-1.219738</td>\n",
       "      <td>0.256948</td>\n",
       "      <td>0.158104</td>\n",
       "      <td>-1.561943</td>\n",
       "    </tr>\n",
       "    <tr>\n",
       "      <th>4</th>\n",
       "      <td>nyMB77ngA9</td>\n",
       "      <td>0.566459</td>\n",
       "      <td>-0.230487</td>\n",
       "      <td>NaN</td>\n",
       "      <td>1.003619</td>\n",
       "    </tr>\n",
       "  </tbody>\n",
       "</table>\n",
       "</div>"
      ],
      "text/plain": [
       "            Z         A         B         C         D\n",
       "0  xxs3iia9of  0.004327  0.369993  0.207288 -1.438370\n",
       "1  LxX2JjaGIJ  1.395118  1.683035  0.980699 -0.053247\n",
       "2  MznWWww5wv -0.169925 -0.087305 -0.906339  0.813347\n",
       "3  VEKZJxHjiQ -1.219738  0.256948  0.158104 -1.561943\n",
       "4  nyMB77ngA9  0.566459 -0.230487       NaN  1.003619"
      ]
     },
     "execution_count": 24,
     "metadata": {},
     "output_type": "execute_result"
    }
   ],
   "source": [
    "df = df.rename(columns={'index':'Z'})\n",
    "df.head()"
   ]
  },
  {
   "cell_type": "code",
   "execution_count": 25,
   "id": "b168a7fa",
   "metadata": {},
   "outputs": [],
   "source": [
    "df_backup = df.copy(deep=True)"
   ]
  },
  {
   "cell_type": "markdown",
   "id": "cafc10e2",
   "metadata": {},
   "source": [
    "# Menghapus Missing Values (Columns )"
   ]
  },
  {
   "cell_type": "code",
   "execution_count": 26,
   "id": "32375d86",
   "metadata": {},
   "outputs": [
    {
     "data": {
      "text/html": [
       "<div>\n",
       "<style scoped>\n",
       "    .dataframe tbody tr th:only-of-type {\n",
       "        vertical-align: middle;\n",
       "    }\n",
       "\n",
       "    .dataframe tbody tr th {\n",
       "        vertical-align: top;\n",
       "    }\n",
       "\n",
       "    .dataframe thead th {\n",
       "        text-align: right;\n",
       "    }\n",
       "</style>\n",
       "<table border=\"1\" class=\"dataframe\">\n",
       "  <thead>\n",
       "    <tr style=\"text-align: right;\">\n",
       "      <th></th>\n",
       "      <th>Z</th>\n",
       "    </tr>\n",
       "  </thead>\n",
       "  <tbody>\n",
       "    <tr>\n",
       "      <th>0</th>\n",
       "      <td>xxs3iia9of</td>\n",
       "    </tr>\n",
       "    <tr>\n",
       "      <th>1</th>\n",
       "      <td>LxX2JjaGIJ</td>\n",
       "    </tr>\n",
       "    <tr>\n",
       "      <th>2</th>\n",
       "      <td>MznWWww5wv</td>\n",
       "    </tr>\n",
       "    <tr>\n",
       "      <th>3</th>\n",
       "      <td>VEKZJxHjiQ</td>\n",
       "    </tr>\n",
       "    <tr>\n",
       "      <th>4</th>\n",
       "      <td>nyMB77ngA9</td>\n",
       "    </tr>\n",
       "  </tbody>\n",
       "</table>\n",
       "</div>"
      ],
      "text/plain": [
       "            Z\n",
       "0  xxs3iia9of\n",
       "1  LxX2JjaGIJ\n",
       "2  MznWWww5wv\n",
       "3  VEKZJxHjiQ\n",
       "4  nyMB77ngA9"
      ]
     },
     "execution_count": 26,
     "metadata": {},
     "output_type": "execute_result"
    }
   ],
   "source": [
    "df = df.dropna(axis='columns')\n",
    "df.head()"
   ]
  },
  {
   "cell_type": "markdown",
   "id": "f2b84dbc",
   "metadata": {},
   "source": [
    "# Menghapus Missing Values (Rows)"
   ]
  },
  {
   "cell_type": "code",
   "execution_count": 27,
   "id": "cbe55a71",
   "metadata": {},
   "outputs": [
    {
     "data": {
      "text/html": [
       "<div>\n",
       "<style scoped>\n",
       "    .dataframe tbody tr th:only-of-type {\n",
       "        vertical-align: middle;\n",
       "    }\n",
       "\n",
       "    .dataframe tbody tr th {\n",
       "        vertical-align: top;\n",
       "    }\n",
       "\n",
       "    .dataframe thead th {\n",
       "        text-align: right;\n",
       "    }\n",
       "</style>\n",
       "<table border=\"1\" class=\"dataframe\">\n",
       "  <thead>\n",
       "    <tr style=\"text-align: right;\">\n",
       "      <th></th>\n",
       "      <th>Z</th>\n",
       "      <th>A</th>\n",
       "      <th>B</th>\n",
       "      <th>C</th>\n",
       "      <th>D</th>\n",
       "    </tr>\n",
       "  </thead>\n",
       "  <tbody>\n",
       "    <tr>\n",
       "      <th>0</th>\n",
       "      <td>xxs3iia9of</td>\n",
       "      <td>0.004327</td>\n",
       "      <td>0.369993</td>\n",
       "      <td>0.207288</td>\n",
       "      <td>-1.438370</td>\n",
       "    </tr>\n",
       "    <tr>\n",
       "      <th>1</th>\n",
       "      <td>LxX2JjaGIJ</td>\n",
       "      <td>1.395118</td>\n",
       "      <td>1.683035</td>\n",
       "      <td>0.980699</td>\n",
       "      <td>-0.053247</td>\n",
       "    </tr>\n",
       "    <tr>\n",
       "      <th>2</th>\n",
       "      <td>MznWWww5wv</td>\n",
       "      <td>-0.169925</td>\n",
       "      <td>-0.087305</td>\n",
       "      <td>-0.906339</td>\n",
       "      <td>0.813347</td>\n",
       "    </tr>\n",
       "    <tr>\n",
       "      <th>3</th>\n",
       "      <td>VEKZJxHjiQ</td>\n",
       "      <td>-1.219738</td>\n",
       "      <td>0.256948</td>\n",
       "      <td>0.158104</td>\n",
       "      <td>-1.561943</td>\n",
       "    </tr>\n",
       "    <tr>\n",
       "      <th>4</th>\n",
       "      <td>nyMB77ngA9</td>\n",
       "      <td>0.566459</td>\n",
       "      <td>-0.230487</td>\n",
       "      <td>NaN</td>\n",
       "      <td>1.003619</td>\n",
       "    </tr>\n",
       "  </tbody>\n",
       "</table>\n",
       "</div>"
      ],
      "text/plain": [
       "            Z         A         B         C         D\n",
       "0  xxs3iia9of  0.004327  0.369993  0.207288 -1.438370\n",
       "1  LxX2JjaGIJ  1.395118  1.683035  0.980699 -0.053247\n",
       "2  MznWWww5wv -0.169925 -0.087305 -0.906339  0.813347\n",
       "3  VEKZJxHjiQ -1.219738  0.256948  0.158104 -1.561943\n",
       "4  nyMB77ngA9  0.566459 -0.230487       NaN  1.003619"
      ]
     },
     "execution_count": 27,
     "metadata": {},
     "output_type": "execute_result"
    }
   ],
   "source": [
    "df = df_backup.copy(deep=True)\n",
    "df.head()"
   ]
  },
  {
   "cell_type": "code",
   "execution_count": 28,
   "id": "32f522e7",
   "metadata": {},
   "outputs": [
    {
     "data": {
      "text/html": [
       "<div>\n",
       "<style scoped>\n",
       "    .dataframe tbody tr th:only-of-type {\n",
       "        vertical-align: middle;\n",
       "    }\n",
       "\n",
       "    .dataframe tbody tr th {\n",
       "        vertical-align: top;\n",
       "    }\n",
       "\n",
       "    .dataframe thead th {\n",
       "        text-align: right;\n",
       "    }\n",
       "</style>\n",
       "<table border=\"1\" class=\"dataframe\">\n",
       "  <thead>\n",
       "    <tr style=\"text-align: right;\">\n",
       "      <th></th>\n",
       "      <th>Z</th>\n",
       "      <th>A</th>\n",
       "      <th>B</th>\n",
       "      <th>C</th>\n",
       "      <th>D</th>\n",
       "    </tr>\n",
       "  </thead>\n",
       "  <tbody>\n",
       "    <tr>\n",
       "      <th>0</th>\n",
       "      <td>xxs3iia9of</td>\n",
       "      <td>0.004327</td>\n",
       "      <td>0.369993</td>\n",
       "      <td>0.207288</td>\n",
       "      <td>-1.438370</td>\n",
       "    </tr>\n",
       "    <tr>\n",
       "      <th>1</th>\n",
       "      <td>LxX2JjaGIJ</td>\n",
       "      <td>1.395118</td>\n",
       "      <td>1.683035</td>\n",
       "      <td>0.980699</td>\n",
       "      <td>-0.053247</td>\n",
       "    </tr>\n",
       "    <tr>\n",
       "      <th>2</th>\n",
       "      <td>MznWWww5wv</td>\n",
       "      <td>-0.169925</td>\n",
       "      <td>-0.087305</td>\n",
       "      <td>-0.906339</td>\n",
       "      <td>0.813347</td>\n",
       "    </tr>\n",
       "    <tr>\n",
       "      <th>3</th>\n",
       "      <td>VEKZJxHjiQ</td>\n",
       "      <td>-1.219738</td>\n",
       "      <td>0.256948</td>\n",
       "      <td>0.158104</td>\n",
       "      <td>-1.561943</td>\n",
       "    </tr>\n",
       "    <tr>\n",
       "      <th>5</th>\n",
       "      <td>tQ0JsT1UZI</td>\n",
       "      <td>-0.652410</td>\n",
       "      <td>1.498653</td>\n",
       "      <td>0.088537</td>\n",
       "      <td>0.396585</td>\n",
       "    </tr>\n",
       "  </tbody>\n",
       "</table>\n",
       "</div>"
      ],
      "text/plain": [
       "            Z         A         B         C         D\n",
       "0  xxs3iia9of  0.004327  0.369993  0.207288 -1.438370\n",
       "1  LxX2JjaGIJ  1.395118  1.683035  0.980699 -0.053247\n",
       "2  MznWWww5wv -0.169925 -0.087305 -0.906339  0.813347\n",
       "3  VEKZJxHjiQ -1.219738  0.256948  0.158104 -1.561943\n",
       "5  tQ0JsT1UZI -0.652410  1.498653  0.088537  0.396585"
      ]
     },
     "execution_count": 28,
     "metadata": {},
     "output_type": "execute_result"
    }
   ],
   "source": [
    "df = df.dropna(axis='rows')\n",
    "df.head()"
   ]
  },
  {
   "cell_type": "markdown",
   "id": "8402e0bf",
   "metadata": {},
   "source": [
    "# Melihat Presentase Missing Values"
   ]
  },
  {
   "cell_type": "code",
   "execution_count": 29,
   "id": "c7ddd789",
   "metadata": {},
   "outputs": [
    {
     "data": {
      "text/html": [
       "<div>\n",
       "<style scoped>\n",
       "    .dataframe tbody tr th:only-of-type {\n",
       "        vertical-align: middle;\n",
       "    }\n",
       "\n",
       "    .dataframe tbody tr th {\n",
       "        vertical-align: top;\n",
       "    }\n",
       "\n",
       "    .dataframe thead th {\n",
       "        text-align: right;\n",
       "    }\n",
       "</style>\n",
       "<table border=\"1\" class=\"dataframe\">\n",
       "  <thead>\n",
       "    <tr style=\"text-align: right;\">\n",
       "      <th></th>\n",
       "      <th>Z</th>\n",
       "      <th>A</th>\n",
       "      <th>B</th>\n",
       "      <th>C</th>\n",
       "      <th>D</th>\n",
       "    </tr>\n",
       "  </thead>\n",
       "  <tbody>\n",
       "    <tr>\n",
       "      <th>0</th>\n",
       "      <td>xxs3iia9of</td>\n",
       "      <td>0.004327</td>\n",
       "      <td>0.369993</td>\n",
       "      <td>0.207288</td>\n",
       "      <td>-1.438370</td>\n",
       "    </tr>\n",
       "    <tr>\n",
       "      <th>1</th>\n",
       "      <td>LxX2JjaGIJ</td>\n",
       "      <td>1.395118</td>\n",
       "      <td>1.683035</td>\n",
       "      <td>0.980699</td>\n",
       "      <td>-0.053247</td>\n",
       "    </tr>\n",
       "    <tr>\n",
       "      <th>2</th>\n",
       "      <td>MznWWww5wv</td>\n",
       "      <td>-0.169925</td>\n",
       "      <td>-0.087305</td>\n",
       "      <td>-0.906339</td>\n",
       "      <td>0.813347</td>\n",
       "    </tr>\n",
       "    <tr>\n",
       "      <th>3</th>\n",
       "      <td>VEKZJxHjiQ</td>\n",
       "      <td>-1.219738</td>\n",
       "      <td>0.256948</td>\n",
       "      <td>0.158104</td>\n",
       "      <td>-1.561943</td>\n",
       "    </tr>\n",
       "    <tr>\n",
       "      <th>4</th>\n",
       "      <td>nyMB77ngA9</td>\n",
       "      <td>0.566459</td>\n",
       "      <td>-0.230487</td>\n",
       "      <td>NaN</td>\n",
       "      <td>1.003619</td>\n",
       "    </tr>\n",
       "  </tbody>\n",
       "</table>\n",
       "</div>"
      ],
      "text/plain": [
       "            Z         A         B         C         D\n",
       "0  xxs3iia9of  0.004327  0.369993  0.207288 -1.438370\n",
       "1  LxX2JjaGIJ  1.395118  1.683035  0.980699 -0.053247\n",
       "2  MznWWww5wv -0.169925 -0.087305 -0.906339  0.813347\n",
       "3  VEKZJxHjiQ -1.219738  0.256948  0.158104 -1.561943\n",
       "4  nyMB77ngA9  0.566459 -0.230487       NaN  1.003619"
      ]
     },
     "execution_count": 29,
     "metadata": {},
     "output_type": "execute_result"
    }
   ],
   "source": [
    "df = df_backup.copy(deep=True)\n",
    "df.head()"
   ]
  },
  {
   "cell_type": "code",
   "execution_count": 30,
   "id": "36c4ee8e",
   "metadata": {},
   "outputs": [
    {
     "data": {
      "text/plain": [
       "Z    0.000000\n",
       "A    0.066667\n",
       "B    0.100000\n",
       "C    0.200000\n",
       "D    0.033333\n",
       "dtype: float64"
      ]
     },
     "execution_count": 30,
     "metadata": {},
     "output_type": "execute_result"
    }
   ],
   "source": [
    "df.isna().mean()"
   ]
  },
  {
   "cell_type": "markdown",
   "id": "3cfbb4f0",
   "metadata": {},
   "source": [
    "# Mengahpus Missing Values Berdasarkan Threshold"
   ]
  },
  {
   "cell_type": "code",
   "execution_count": 31,
   "id": "e0b03369",
   "metadata": {},
   "outputs": [
    {
     "data": {
      "text/html": [
       "<div>\n",
       "<style scoped>\n",
       "    .dataframe tbody tr th:only-of-type {\n",
       "        vertical-align: middle;\n",
       "    }\n",
       "\n",
       "    .dataframe tbody tr th {\n",
       "        vertical-align: top;\n",
       "    }\n",
       "\n",
       "    .dataframe thead th {\n",
       "        text-align: right;\n",
       "    }\n",
       "</style>\n",
       "<table border=\"1\" class=\"dataframe\">\n",
       "  <thead>\n",
       "    <tr style=\"text-align: right;\">\n",
       "      <th></th>\n",
       "      <th>Z</th>\n",
       "      <th>A</th>\n",
       "      <th>B</th>\n",
       "      <th>D</th>\n",
       "    </tr>\n",
       "  </thead>\n",
       "  <tbody>\n",
       "    <tr>\n",
       "      <th>0</th>\n",
       "      <td>xxs3iia9of</td>\n",
       "      <td>0.004327</td>\n",
       "      <td>0.369993</td>\n",
       "      <td>-1.438370</td>\n",
       "    </tr>\n",
       "    <tr>\n",
       "      <th>1</th>\n",
       "      <td>LxX2JjaGIJ</td>\n",
       "      <td>1.395118</td>\n",
       "      <td>1.683035</td>\n",
       "      <td>-0.053247</td>\n",
       "    </tr>\n",
       "    <tr>\n",
       "      <th>2</th>\n",
       "      <td>MznWWww5wv</td>\n",
       "      <td>-0.169925</td>\n",
       "      <td>-0.087305</td>\n",
       "      <td>0.813347</td>\n",
       "    </tr>\n",
       "    <tr>\n",
       "      <th>3</th>\n",
       "      <td>VEKZJxHjiQ</td>\n",
       "      <td>-1.219738</td>\n",
       "      <td>0.256948</td>\n",
       "      <td>-1.561943</td>\n",
       "    </tr>\n",
       "    <tr>\n",
       "      <th>4</th>\n",
       "      <td>nyMB77ngA9</td>\n",
       "      <td>0.566459</td>\n",
       "      <td>-0.230487</td>\n",
       "      <td>1.003619</td>\n",
       "    </tr>\n",
       "  </tbody>\n",
       "</table>\n",
       "</div>"
      ],
      "text/plain": [
       "            Z         A         B         D\n",
       "0  xxs3iia9of  0.004327  0.369993 -1.438370\n",
       "1  LxX2JjaGIJ  1.395118  1.683035 -0.053247\n",
       "2  MznWWww5wv -0.169925 -0.087305  0.813347\n",
       "3  VEKZJxHjiQ -1.219738  0.256948 -1.561943\n",
       "4  nyMB77ngA9  0.566459 -0.230487  1.003619"
      ]
     },
     "execution_count": 31,
     "metadata": {},
     "output_type": "execute_result"
    }
   ],
   "source": [
    "thresh = len(df) * 0.9\n",
    "df = df.dropna(thresh=thresh,axis='columns')\n",
    "df.head()"
   ]
  }
 ],
 "metadata": {
  "kernelspec": {
   "display_name": "Python 3 (ipykernel)",
   "language": "python",
   "name": "python3"
  },
  "language_info": {
   "codemirror_mode": {
    "name": "ipython",
    "version": 3
   },
   "file_extension": ".py",
   "mimetype": "text/x-python",
   "name": "python",
   "nbconvert_exporter": "python",
   "pygments_lexer": "ipython3",
   "version": "3.10.9"
  }
 },
 "nbformat": 4,
 "nbformat_minor": 5
}
