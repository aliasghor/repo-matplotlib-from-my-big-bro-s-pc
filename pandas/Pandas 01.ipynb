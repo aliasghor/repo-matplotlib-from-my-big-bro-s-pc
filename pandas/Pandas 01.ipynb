{
 "cells": [
  {
   "cell_type": "markdown",
   "id": "0a2c5f73",
   "metadata": {},
   "source": [
    "# Menyertakan Prefix dan Suffix pada seluruh Kolom Pandas Data Frame"
   ]
  },
  {
   "cell_type": "markdown",
   "id": "da48ba1e",
   "metadata": {},
   "source": [
    "# Import Module"
   ]
  },
  {
   "cell_type": "code",
   "execution_count": 1,
   "id": "3faaec1a",
   "metadata": {},
   "outputs": [],
   "source": [
    "import pandas as pd"
   ]
  },
  {
   "cell_type": "code",
   "execution_count": null,
   "id": "cc8cf365",
   "metadata": {},
   "outputs": [],
   "source": []
  }
 ],
 "metadata": {
  "kernelspec": {
   "display_name": "Python 3 (ipykernel)",
   "language": "python",
   "name": "python3"
  },
  "language_info": {
   "codemirror_mode": {
    "name": "ipython",
    "version": 3
   },
   "file_extension": ".py",
   "mimetype": "text/x-python",
   "name": "python",
   "nbconvert_exporter": "python",
   "pygments_lexer": "ipython3",
   "version": "3.10.9"
  }
 },
 "nbformat": 4,
 "nbformat_minor": 5
}
