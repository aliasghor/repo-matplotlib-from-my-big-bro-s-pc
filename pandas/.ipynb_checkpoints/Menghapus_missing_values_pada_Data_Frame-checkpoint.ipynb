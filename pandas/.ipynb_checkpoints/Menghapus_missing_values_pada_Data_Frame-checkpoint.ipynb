{
 "cells": [
  {
   "cell_type": "markdown",
   "id": "f9d6f2d2",
   "metadata": {},
   "source": [
    "#  Menghapus missing values pada Data Frame"
   ]
  },
  {
   "cell_type": "markdown",
   "id": "b6d912c0",
   "metadata": {},
   "source": [
    "# Import Module"
   ]
  },
  {
   "cell_type": "code",
   "execution_count": 9,
   "id": "aa42f534",
   "metadata": {},
   "outputs": [],
   "source": [
    "import pandas as pd"
   ]
  },
  {
   "cell_type": "markdown",
   "id": "90c16d0d",
   "metadata": {},
   "source": [
    "# Membuat Data Frame"
   ]
  },
  {
   "cell_type": "code",
   "execution_count": 10,
   "id": "7e1679b2",
   "metadata": {},
   "outputs": [
    {
     "data": {
      "text/html": [
       "<div>\n",
       "<style scoped>\n",
       "    .dataframe tbody tr th:only-of-type {\n",
       "        vertical-align: middle;\n",
       "    }\n",
       "\n",
       "    .dataframe tbody tr th {\n",
       "        vertical-align: top;\n",
       "    }\n",
       "\n",
       "    .dataframe thead th {\n",
       "        text-align: right;\n",
       "    }\n",
       "</style>\n",
       "<table border=\"1\" class=\"dataframe\">\n",
       "  <thead>\n",
       "    <tr style=\"text-align: right;\">\n",
       "      <th></th>\n",
       "      <th>index</th>\n",
       "      <th>A</th>\n",
       "      <th>B</th>\n",
       "      <th>C</th>\n",
       "      <th>D</th>\n",
       "    </tr>\n",
       "  </thead>\n",
       "  <tbody>\n",
       "    <tr>\n",
       "      <th>0</th>\n",
       "      <td>isyruPorOW</td>\n",
       "      <td>-0.809053</td>\n",
       "      <td>2.026164</td>\n",
       "      <td>-0.746400</td>\n",
       "      <td>-0.529680</td>\n",
       "    </tr>\n",
       "    <tr>\n",
       "      <th>1</th>\n",
       "      <td>bBv4vYAPQs</td>\n",
       "      <td>-0.003965</td>\n",
       "      <td>-0.965229</td>\n",
       "      <td>1.377203</td>\n",
       "      <td>-0.372358</td>\n",
       "    </tr>\n",
       "    <tr>\n",
       "      <th>2</th>\n",
       "      <td>NLrpY0iCoB</td>\n",
       "      <td>-0.978018</td>\n",
       "      <td>0.202147</td>\n",
       "      <td>0.278328</td>\n",
       "      <td>NaN</td>\n",
       "    </tr>\n",
       "    <tr>\n",
       "      <th>3</th>\n",
       "      <td>PXOVlQi71y</td>\n",
       "      <td>-0.781771</td>\n",
       "      <td>-0.143853</td>\n",
       "      <td>-0.561158</td>\n",
       "      <td>-0.232520</td>\n",
       "    </tr>\n",
       "    <tr>\n",
       "      <th>4</th>\n",
       "      <td>CgIz9SrxmH</td>\n",
       "      <td>-0.363906</td>\n",
       "      <td>2.248375</td>\n",
       "      <td>1.609304</td>\n",
       "      <td>-1.873679</td>\n",
       "    </tr>\n",
       "  </tbody>\n",
       "</table>\n",
       "</div>"
      ],
      "text/plain": [
       "        index         A         B         C         D\n",
       "0  isyruPorOW -0.809053  2.026164 -0.746400 -0.529680\n",
       "1  bBv4vYAPQs -0.003965 -0.965229  1.377203 -0.372358\n",
       "2  NLrpY0iCoB -0.978018  0.202147  0.278328       NaN\n",
       "3  PXOVlQi71y -0.781771 -0.143853 -0.561158 -0.232520\n",
       "4  CgIz9SrxmH -0.363906  2.248375  1.609304 -1.873679"
      ]
     },
     "execution_count": 10,
     "metadata": {},
     "output_type": "execute_result"
    }
   ],
   "source": [
    "df = pd.util.testing.makeMissingDataframe().reset_index()\n",
    "\n",
    "df.head() "
   ]
  },
  {
   "cell_type": "code",
   "execution_count": 11,
   "id": "5411fdfa",
   "metadata": {},
   "outputs": [
    {
     "data": {
      "text/html": [
       "<div>\n",
       "<style scoped>\n",
       "    .dataframe tbody tr th:only-of-type {\n",
       "        vertical-align: middle;\n",
       "    }\n",
       "\n",
       "    .dataframe tbody tr th {\n",
       "        vertical-align: top;\n",
       "    }\n",
       "\n",
       "    .dataframe thead th {\n",
       "        text-align: right;\n",
       "    }\n",
       "</style>\n",
       "<table border=\"1\" class=\"dataframe\">\n",
       "  <thead>\n",
       "    <tr style=\"text-align: right;\">\n",
       "      <th></th>\n",
       "      <th>Z</th>\n",
       "      <th>A</th>\n",
       "      <th>B</th>\n",
       "      <th>C</th>\n",
       "      <th>D</th>\n",
       "    </tr>\n",
       "  </thead>\n",
       "  <tbody>\n",
       "    <tr>\n",
       "      <th>0</th>\n",
       "      <td>isyruPorOW</td>\n",
       "      <td>-0.809053</td>\n",
       "      <td>2.026164</td>\n",
       "      <td>-0.746400</td>\n",
       "      <td>-0.529680</td>\n",
       "    </tr>\n",
       "    <tr>\n",
       "      <th>1</th>\n",
       "      <td>bBv4vYAPQs</td>\n",
       "      <td>-0.003965</td>\n",
       "      <td>-0.965229</td>\n",
       "      <td>1.377203</td>\n",
       "      <td>-0.372358</td>\n",
       "    </tr>\n",
       "    <tr>\n",
       "      <th>2</th>\n",
       "      <td>NLrpY0iCoB</td>\n",
       "      <td>-0.978018</td>\n",
       "      <td>0.202147</td>\n",
       "      <td>0.278328</td>\n",
       "      <td>NaN</td>\n",
       "    </tr>\n",
       "    <tr>\n",
       "      <th>3</th>\n",
       "      <td>PXOVlQi71y</td>\n",
       "      <td>-0.781771</td>\n",
       "      <td>-0.143853</td>\n",
       "      <td>-0.561158</td>\n",
       "      <td>-0.232520</td>\n",
       "    </tr>\n",
       "    <tr>\n",
       "      <th>4</th>\n",
       "      <td>CgIz9SrxmH</td>\n",
       "      <td>-0.363906</td>\n",
       "      <td>2.248375</td>\n",
       "      <td>1.609304</td>\n",
       "      <td>-1.873679</td>\n",
       "    </tr>\n",
       "  </tbody>\n",
       "</table>\n",
       "</div>"
      ],
      "text/plain": [
       "            Z         A         B         C         D\n",
       "0  isyruPorOW -0.809053  2.026164 -0.746400 -0.529680\n",
       "1  bBv4vYAPQs -0.003965 -0.965229  1.377203 -0.372358\n",
       "2  NLrpY0iCoB -0.978018  0.202147  0.278328       NaN\n",
       "3  PXOVlQi71y -0.781771 -0.143853 -0.561158 -0.232520\n",
       "4  CgIz9SrxmH -0.363906  2.248375  1.609304 -1.873679"
      ]
     },
     "execution_count": 11,
     "metadata": {},
     "output_type": "execute_result"
    }
   ],
   "source": [
    "df = df.rename(columns={'index':'Z'})\n",
    "df.head()"
   ]
  },
  {
   "cell_type": "code",
   "execution_count": 12,
   "id": "57c5fd32",
   "metadata": {},
   "outputs": [],
   "source": [
    "df_backup = df.copy(deep=True)"
   ]
  },
  {
   "cell_type": "code",
   "execution_count": 13,
   "id": "c607b61d",
   "metadata": {},
   "outputs": [
    {
     "data": {
      "text/html": [
       "<div>\n",
       "<style scoped>\n",
       "    .dataframe tbody tr th:only-of-type {\n",
       "        vertical-align: middle;\n",
       "    }\n",
       "\n",
       "    .dataframe tbody tr th {\n",
       "        vertical-align: top;\n",
       "    }\n",
       "\n",
       "    .dataframe thead th {\n",
       "        text-align: right;\n",
       "    }\n",
       "</style>\n",
       "<table border=\"1\" class=\"dataframe\">\n",
       "  <thead>\n",
       "    <tr style=\"text-align: right;\">\n",
       "      <th></th>\n",
       "      <th>Z</th>\n",
       "    </tr>\n",
       "  </thead>\n",
       "  <tbody>\n",
       "    <tr>\n",
       "      <th>0</th>\n",
       "      <td>isyruPorOW</td>\n",
       "    </tr>\n",
       "    <tr>\n",
       "      <th>1</th>\n",
       "      <td>bBv4vYAPQs</td>\n",
       "    </tr>\n",
       "    <tr>\n",
       "      <th>2</th>\n",
       "      <td>NLrpY0iCoB</td>\n",
       "    </tr>\n",
       "    <tr>\n",
       "      <th>3</th>\n",
       "      <td>PXOVlQi71y</td>\n",
       "    </tr>\n",
       "    <tr>\n",
       "      <th>4</th>\n",
       "      <td>CgIz9SrxmH</td>\n",
       "    </tr>\n",
       "  </tbody>\n",
       "</table>\n",
       "</div>"
      ],
      "text/plain": [
       "            Z\n",
       "0  isyruPorOW\n",
       "1  bBv4vYAPQs\n",
       "2  NLrpY0iCoB\n",
       "3  PXOVlQi71y\n",
       "4  CgIz9SrxmH"
      ]
     },
     "execution_count": 13,
     "metadata": {},
     "output_type": "execute_result"
    }
   ],
   "source": [
    "df = df.dropna(axis='columns')\n",
    "df.head()"
   ]
  },
  {
   "cell_type": "code",
   "execution_count": 14,
   "id": "9a43c413",
   "metadata": {},
   "outputs": [
    {
     "data": {
      "text/html": [
       "<div>\n",
       "<style scoped>\n",
       "    .dataframe tbody tr th:only-of-type {\n",
       "        vertical-align: middle;\n",
       "    }\n",
       "\n",
       "    .dataframe tbody tr th {\n",
       "        vertical-align: top;\n",
       "    }\n",
       "\n",
       "    .dataframe thead th {\n",
       "        text-align: right;\n",
       "    }\n",
       "</style>\n",
       "<table border=\"1\" class=\"dataframe\">\n",
       "  <thead>\n",
       "    <tr style=\"text-align: right;\">\n",
       "      <th></th>\n",
       "      <th>Z</th>\n",
       "      <th>A</th>\n",
       "      <th>B</th>\n",
       "      <th>C</th>\n",
       "      <th>D</th>\n",
       "    </tr>\n",
       "  </thead>\n",
       "  <tbody>\n",
       "    <tr>\n",
       "      <th>0</th>\n",
       "      <td>isyruPorOW</td>\n",
       "      <td>-0.809053</td>\n",
       "      <td>2.026164</td>\n",
       "      <td>-0.746400</td>\n",
       "      <td>-0.529680</td>\n",
       "    </tr>\n",
       "    <tr>\n",
       "      <th>1</th>\n",
       "      <td>bBv4vYAPQs</td>\n",
       "      <td>-0.003965</td>\n",
       "      <td>-0.965229</td>\n",
       "      <td>1.377203</td>\n",
       "      <td>-0.372358</td>\n",
       "    </tr>\n",
       "    <tr>\n",
       "      <th>3</th>\n",
       "      <td>PXOVlQi71y</td>\n",
       "      <td>-0.781771</td>\n",
       "      <td>-0.143853</td>\n",
       "      <td>-0.561158</td>\n",
       "      <td>-0.232520</td>\n",
       "    </tr>\n",
       "    <tr>\n",
       "      <th>4</th>\n",
       "      <td>CgIz9SrxmH</td>\n",
       "      <td>-0.363906</td>\n",
       "      <td>2.248375</td>\n",
       "      <td>1.609304</td>\n",
       "      <td>-1.873679</td>\n",
       "    </tr>\n",
       "    <tr>\n",
       "      <th>5</th>\n",
       "      <td>0zcehjqWZm</td>\n",
       "      <td>-0.568621</td>\n",
       "      <td>0.419782</td>\n",
       "      <td>-0.217914</td>\n",
       "      <td>-0.868946</td>\n",
       "    </tr>\n",
       "  </tbody>\n",
       "</table>\n",
       "</div>"
      ],
      "text/plain": [
       "            Z         A         B         C         D\n",
       "0  isyruPorOW -0.809053  2.026164 -0.746400 -0.529680\n",
       "1  bBv4vYAPQs -0.003965 -0.965229  1.377203 -0.372358\n",
       "3  PXOVlQi71y -0.781771 -0.143853 -0.561158 -0.232520\n",
       "4  CgIz9SrxmH -0.363906  2.248375  1.609304 -1.873679\n",
       "5  0zcehjqWZm -0.568621  0.419782 -0.217914 -0.868946"
      ]
     },
     "execution_count": 14,
     "metadata": {},
     "output_type": "execute_result"
    }
   ],
   "source": [
    "df = df_backup.copy(deep=True)\n",
    "df = df.dropna(axis='rows')\n",
    "df.head()"
   ]
  },
  {
   "cell_type": "code",
   "execution_count": 15,
   "id": "14d10f65",
   "metadata": {},
   "outputs": [
    {
     "data": {
      "text/plain": [
       "Z    0.000000\n",
       "A    0.166667\n",
       "B    0.100000\n",
       "C    0.100000\n",
       "D    0.033333\n",
       "dtype: float64"
      ]
     },
     "execution_count": 15,
     "metadata": {},
     "output_type": "execute_result"
    }
   ],
   "source": [
    "df = df_backup.copy(deep=True)\n",
    "df.isna().mean()"
   ]
  },
  {
   "cell_type": "code",
   "execution_count": 16,
   "id": "64e2bcfb",
   "metadata": {},
   "outputs": [
    {
     "data": {
      "text/html": [
       "<div>\n",
       "<style scoped>\n",
       "    .dataframe tbody tr th:only-of-type {\n",
       "        vertical-align: middle;\n",
       "    }\n",
       "\n",
       "    .dataframe tbody tr th {\n",
       "        vertical-align: top;\n",
       "    }\n",
       "\n",
       "    .dataframe thead th {\n",
       "        text-align: right;\n",
       "    }\n",
       "</style>\n",
       "<table border=\"1\" class=\"dataframe\">\n",
       "  <thead>\n",
       "    <tr style=\"text-align: right;\">\n",
       "      <th></th>\n",
       "      <th>Z</th>\n",
       "      <th>B</th>\n",
       "      <th>C</th>\n",
       "      <th>D</th>\n",
       "    </tr>\n",
       "  </thead>\n",
       "  <tbody>\n",
       "    <tr>\n",
       "      <th>0</th>\n",
       "      <td>isyruPorOW</td>\n",
       "      <td>2.026164</td>\n",
       "      <td>-0.746400</td>\n",
       "      <td>-0.529680</td>\n",
       "    </tr>\n",
       "    <tr>\n",
       "      <th>1</th>\n",
       "      <td>bBv4vYAPQs</td>\n",
       "      <td>-0.965229</td>\n",
       "      <td>1.377203</td>\n",
       "      <td>-0.372358</td>\n",
       "    </tr>\n",
       "    <tr>\n",
       "      <th>2</th>\n",
       "      <td>NLrpY0iCoB</td>\n",
       "      <td>0.202147</td>\n",
       "      <td>0.278328</td>\n",
       "      <td>NaN</td>\n",
       "    </tr>\n",
       "    <tr>\n",
       "      <th>3</th>\n",
       "      <td>PXOVlQi71y</td>\n",
       "      <td>-0.143853</td>\n",
       "      <td>-0.561158</td>\n",
       "      <td>-0.232520</td>\n",
       "    </tr>\n",
       "    <tr>\n",
       "      <th>4</th>\n",
       "      <td>CgIz9SrxmH</td>\n",
       "      <td>2.248375</td>\n",
       "      <td>1.609304</td>\n",
       "      <td>-1.873679</td>\n",
       "    </tr>\n",
       "  </tbody>\n",
       "</table>\n",
       "</div>"
      ],
      "text/plain": [
       "            Z         B         C         D\n",
       "0  isyruPorOW  2.026164 -0.746400 -0.529680\n",
       "1  bBv4vYAPQs -0.965229  1.377203 -0.372358\n",
       "2  NLrpY0iCoB  0.202147  0.278328       NaN\n",
       "3  PXOVlQi71y -0.143853 -0.561158 -0.232520\n",
       "4  CgIz9SrxmH  2.248375  1.609304 -1.873679"
      ]
     },
     "execution_count": 16,
     "metadata": {},
     "output_type": "execute_result"
    }
   ],
   "source": [
    "threshold = len(df) * 0.9\n",
    "df = df.dropna(thresh=threshold,axis=\"columns\")\n",
    "df.head()"
   ]
  }
 ],
 "metadata": {
  "kernelspec": {
   "display_name": "Python 3 (ipykernel)",
   "language": "python",
   "name": "python3"
  },
  "language_info": {
   "codemirror_mode": {
    "name": "ipython",
    "version": 3
   },
   "file_extension": ".py",
   "mimetype": "text/x-python",
   "name": "python",
   "nbconvert_exporter": "python",
   "pygments_lexer": "ipython3",
   "version": "3.10.9"
  }
 },
 "nbformat": 4,
 "nbformat_minor": 5
}
